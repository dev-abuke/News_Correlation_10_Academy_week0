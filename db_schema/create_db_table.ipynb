{
 "cells": [
  {
   "cell_type": "code",
   "execution_count": 8,
   "metadata": {},
   "outputs": [],
   "source": [
    "# Import functions\n",
    "import psycopg2\n",
    "from psycopg2 import sql"
   ]
  },
  {
   "cell_type": "code",
   "execution_count": 19,
   "metadata": {},
   "outputs": [],
   "source": [
    "connection_params = {\n",
    "    \"host\": \"localhost\",\n",
    "    \"user\": \"postgres\",\n",
    "    \"password\": \"hello\",\n",
    "    \"port\": \"5434\"\n",
    "}"
   ]
  },
  {
   "cell_type": "markdown",
   "metadata": {},
   "source": [
    "# Creating Features"
   ]
  },
  {
   "cell_type": "code",
   "execution_count": 21,
   "metadata": {},
   "outputs": [],
   "source": [
    "db_name = 'newsdb'\n",
    "sql_file_path = './news_features.sql'"
   ]
  },
  {
   "cell_type": "code",
   "execution_count": 22,
   "metadata": {},
   "outputs": [],
   "source": [
    "conn = psycopg2.connect(\n",
    "    host=connection_params['host'], \n",
    "    user=connection_params['user'], \n",
    "    password=connection_params['password'], \n",
    "    port=connection_params['port']\n",
    ")\n",
    "conn.autocommit = True  # Enable autocommit to execute DDL statements\n",
    "\n",
    "# Create a new database\n",
    "with conn.cursor() as cursor:\n",
    "    create_db_query = sql.SQL(\"CREATE DATABASE {}\").format(sql.Identifier(db_name))\n",
    "    cursor.execute(create_db_query)\n",
    "\n",
    "# Close the connection to the default database\n",
    "conn.close()"
   ]
  },
  {
   "cell_type": "code",
   "execution_count": 23,
   "metadata": {},
   "outputs": [],
   "source": [
    "# Connect to the newly created database\n",
    "connection_params[\"database\"] = db_name\n",
    "conn = psycopg2.connect(\n",
    "    host=connection_params['host'], \n",
    "    user=connection_params['user'], \n",
    "    password=connection_params['password'], \n",
    "    port=connection_params['port'],\n",
    "    database=connection_params['database']\n",
    ")\n",
    "conn.autocommit = True\n",
    "\n",
    "# Execute the SQL file to define the schema\n",
    "with conn.cursor() as cursor:\n",
    "    with open(sql_file_path, \"r\") as file:\n",
    "        sql_file_content = file.read()\n",
    "        cursor.execute(sql_file_content)\n",
    "\n",
    "# Close the connection to the new database\n",
    "conn.close()"
   ]
  }
 ],
 "metadata": {
  "kernelspec": {
   "display_name": "Python 3 (ipykernel)",
   "language": "python",
   "name": "python3"
  },
  "language_info": {
   "codemirror_mode": {
    "name": "ipython",
    "version": 3
   },
   "file_extension": ".py",
   "mimetype": "text/x-python",
   "name": "python",
   "nbconvert_exporter": "python",
   "pygments_lexer": "ipython3",
   "version": "3.12.0"
  }
 },
 "nbformat": 4,
 "nbformat_minor": 2
}
