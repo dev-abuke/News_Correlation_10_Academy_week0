{
 "cells": [
  {
   "cell_type": "code",
   "execution_count": 8,
   "metadata": {},
   "outputs": [],
   "source": [
    "# Import functions\n",
    "import psycopg2\n",
    "from psycopg2 import sql"
   ]
  },
  {
   "cell_type": "code",
   "execution_count": 9,
   "metadata": {},
   "outputs": [],
   "source": [
    "connection_params = {\n",
    "    \"host\": \"localhost\",\n",
    "    \"user\": \"postgres\",\n",
    "    \"password\": \"hello\",\n",
    "    \"port\": \"5434\"\n",
    "}"
   ]
  },
  {
   "cell_type": "markdown",
   "metadata": {},
   "source": [
    "# Creating Features"
   ]
  },
  {
   "cell_type": "code",
   "execution_count": 10,
   "metadata": {},
   "outputs": [],
   "source": [
    "db_name = 'newsdb'\n",
    "sql_file_path = './news_features.sql'"
   ]
  },
  {
   "cell_type": "code",
   "execution_count": 12,
   "metadata": {},
   "outputs": [
    {
     "ename": "DuplicateDatabase",
     "evalue": "database \"newsdb\" already exists\n",
     "output_type": "error",
     "traceback": [
      "\u001b[1;31m---------------------------------------------------------------------------\u001b[0m",
      "\u001b[1;31mDuplicateDatabase\u001b[0m                         Traceback (most recent call last)",
      "Cell \u001b[1;32mIn[12], line 12\u001b[0m\n\u001b[0;32m     10\u001b[0m \u001b[38;5;28;01mwith\u001b[39;00m conn\u001b[38;5;241m.\u001b[39mcursor() \u001b[38;5;28;01mas\u001b[39;00m cursor:\n\u001b[0;32m     11\u001b[0m     create_db_query \u001b[38;5;241m=\u001b[39m sql\u001b[38;5;241m.\u001b[39mSQL(\u001b[38;5;124m\"\u001b[39m\u001b[38;5;124mCREATE DATABASE \u001b[39m\u001b[38;5;132;01m{}\u001b[39;00m\u001b[38;5;124m\"\u001b[39m)\u001b[38;5;241m.\u001b[39mformat(sql\u001b[38;5;241m.\u001b[39mIdentifier(db_name))\n\u001b[1;32m---> 12\u001b[0m     \u001b[43mcursor\u001b[49m\u001b[38;5;241;43m.\u001b[39;49m\u001b[43mexecute\u001b[49m\u001b[43m(\u001b[49m\u001b[43mcreate_db_query\u001b[49m\u001b[43m)\u001b[49m\n\u001b[0;32m     14\u001b[0m \u001b[38;5;66;03m# Close the connection to the default database\u001b[39;00m\n\u001b[0;32m     15\u001b[0m conn\u001b[38;5;241m.\u001b[39mclose()\n",
      "\u001b[1;31mDuplicateDatabase\u001b[0m: database \"newsdb\" already exists\n"
     ]
    }
   ],
   "source": [
    "conn = psycopg2.connect(\n",
    "    host=connection_params['host'], \n",
    "    user=connection_params['user'], \n",
    "    password=connection_params['password'], \n",
    "    port=connection_params['port']\n",
    ")\n",
    "conn.autocommit = True  # Enable autocommit to execute DDL statements\n",
    "\n",
    "# Create a new database\n",
    "with conn.cursor() as cursor:\n",
    "    create_db_query = sql.SQL(\"CREATE DATABASE {}\").format(sql.Identifier(db_name))\n",
    "    cursor.execute(create_db_query)\n",
    "\n",
    "# Close the connection to the default database\n",
    "conn.close()"
   ]
  },
  {
   "cell_type": "code",
   "execution_count": 14,
   "metadata": {},
   "outputs": [],
   "source": [
    "# Connect to the newly created database\n",
    "connection_params[\"database\"] = db_name\n",
    "conn = psycopg2.connect(\n",
    "    host=connection_params['host'], \n",
    "    user=connection_params['user'], \n",
    "    password=connection_params['password'], \n",
    "    port=connection_params['port'],\n",
    "    database=connection_params['database']\n",
    ")\n",
    "conn.autocommit = True\n",
    "\n",
    "# Execute the SQL file to define the schema\n",
    "with conn.cursor() as cursor:\n",
    "    with open(sql_file_path, \"r\") as file:\n",
    "        sql_file_content = file.read()\n",
    "        cursor.execute(sql_file_content)\n",
    "\n",
    "# Close the connection to the new database\n",
    "conn.close()"
   ]
  }
 ],
 "metadata": {
  "kernelspec": {
   "display_name": "Python 3 (ipykernel)",
   "language": "python",
   "name": "python3"
  },
  "language_info": {
   "codemirror_mode": {
    "name": "ipython",
    "version": 3
   },
   "file_extension": ".py",
   "mimetype": "text/x-python",
   "name": "python",
   "nbconvert_exporter": "python",
   "pygments_lexer": "ipython3",
   "version": "3.12.0"
  }
 },
 "nbformat": 4,
 "nbformat_minor": 2
}
