{
 "cells": [
  {
   "cell_type": "code",
   "execution_count": 1,
   "metadata": {},
   "outputs": [],
   "source": [
    "%reload_ext autoreload\n",
    "%autoreload 2"
   ]
  },
  {
   "cell_type": "code",
   "execution_count": 2,
   "metadata": {},
   "outputs": [],
   "source": [
    "import os, sys\n",
    "import re\n",
    "import json\n",
    "import glob\n",
    "import datetime\n",
    "from collections import Counter\n",
    "\n",
    "import pandas as pd\n",
    "from matplotlib import pyplot as plt\n",
    "import seaborn as sns\n",
    "\n",
    "from nltk.corpus import stopwords\n",
    "from wordcloud import WordCloud"
   ]
  },
  {
   "cell_type": "code",
   "execution_count": 3,
   "metadata": {},
   "outputs": [],
   "source": [
    "os.chdir('..')"
   ]
  },
  {
   "cell_type": "code",
   "execution_count": 4,
   "metadata": {},
   "outputs": [],
   "source": [
    "from src.loader import NewsDataLoader\n",
    "import src.countries_region as countries_region "
   ]
  },
  {
   "cell_type": "code",
   "execution_count": 5,
   "metadata": {},
   "outputs": [
    {
     "name": "stdout",
     "output_type": "stream",
     "text": [
      "Output File: news_output.csv\n",
      "Path: data\n",
      "News Data: rating.csv\n",
      "Traffic Data: trafiic.csv\n",
      "Domain Location Data: domains_location.csv\n"
     ]
    }
   ],
   "source": [
    "from src.config import cfg"
   ]
  },
  {
   "cell_type": "code",
   "execution_count": 6,
   "metadata": {},
   "outputs": [],
   "source": [
    "import src.utils as utils"
   ]
  },
  {
   "cell_type": "code",
   "execution_count": 7,
   "metadata": {},
   "outputs": [],
   "source": [
    "news_data_loader = NewsDataLoader(cfg.path)"
   ]
  },
  {
   "cell_type": "code",
   "execution_count": 8,
   "metadata": {},
   "outputs": [],
   "source": [
    "# get news csv file\n",
    "news = news_data_loader.get_news()\n",
    "\n",
    "# get traffic csv file\n",
    "traffic = news_data_loader.get_traffic()\n",
    "\n",
    "# get domain location data csv file\n",
    "domain = news_data_loader.get_domain_location()"
   ]
  },
  {
   "cell_type": "code",
   "execution_count": 9,
   "metadata": {},
   "outputs": [],
   "source": [
    "df = pd.read_csv(news)\n",
    "traffic_df = pd.read_csv(traffic)\n",
    "domain_df = pd.read_csv(domain)"
   ]
  },
  {
   "cell_type": "code",
   "execution_count": 10,
   "metadata": {},
   "outputs": [
    {
     "name": "stdout",
     "output_type": "stream",
     "text": [
      "<class 'pandas.core.frame.DataFrame'>\n",
      "RangeIndex: 58356 entries, 0 to 58355\n",
      "Data columns (total 13 columns):\n",
      " #   Column           Non-Null Count  Dtype \n",
      "---  ------           --------------  ----- \n",
      " 0   article_id       58356 non-null  int64 \n",
      " 1   source_id        17771 non-null  object\n",
      " 2   source_name      58356 non-null  object\n",
      " 3   author           56193 non-null  object\n",
      " 4   title            58356 non-null  object\n",
      " 5   description      58346 non-null  object\n",
      " 6   url              58356 non-null  object\n",
      " 7   url_to_image     54905 non-null  object\n",
      " 8   published_at     58356 non-null  object\n",
      " 9   content          58356 non-null  object\n",
      " 10  category         58335 non-null  object\n",
      " 11  article          58356 non-null  object\n",
      " 12  title_sentiment  58356 non-null  object\n",
      "dtypes: int64(1), object(12)\n",
      "memory usage: 5.8+ MB\n"
     ]
    }
   ],
   "source": [
    "df.info()"
   ]
  },
  {
   "cell_type": "code",
   "execution_count": 11,
   "metadata": {},
   "outputs": [
    {
     "name": "stdout",
     "output_type": "stream",
     "text": [
      "<class 'pandas.core.frame.DataFrame'>\n",
      "RangeIndex: 1000000 entries, 0 to 999999\n",
      "Data columns (total 12 columns):\n",
      " #   Column          Non-Null Count    Dtype \n",
      "---  ------          --------------    ----- \n",
      " 0   GlobalRank      1000000 non-null  int64 \n",
      " 1   TldRank         1000000 non-null  int64 \n",
      " 2   Domain          1000000 non-null  object\n",
      " 3   TLD             1000000 non-null  object\n",
      " 4   RefSubNets      1000000 non-null  int64 \n",
      " 5   RefIPs          1000000 non-null  int64 \n",
      " 6   IDN_Domain      1000000 non-null  object\n",
      " 7   IDN_TLD         1000000 non-null  object\n",
      " 8   PrevGlobalRank  1000000 non-null  int64 \n",
      " 9   PrevTldRank     1000000 non-null  int64 \n",
      " 10  PrevRefSubNets  1000000 non-null  int64 \n",
      " 11  PrevRefIPs      1000000 non-null  int64 \n",
      "dtypes: int64(8), object(4)\n",
      "memory usage: 91.6+ MB\n"
     ]
    }
   ],
   "source": [
    "traffic_df.info()"
   ]
  },
  {
   "cell_type": "code",
   "execution_count": 12,
   "metadata": {},
   "outputs": [
    {
     "name": "stdout",
     "output_type": "stream",
     "text": [
      "<class 'pandas.core.frame.DataFrame'>\n",
      "RangeIndex: 37802 entries, 0 to 37801\n",
      "Data columns (total 3 columns):\n",
      " #   Column            Non-Null Count  Dtype \n",
      "---  ------            --------------  ----- \n",
      " 0   SourceCommonName  37802 non-null  object\n",
      " 1   location          37802 non-null  object\n",
      " 2   Country           37801 non-null  object\n",
      "dtypes: object(3)\n",
      "memory usage: 886.1+ KB\n"
     ]
    }
   ],
   "source": [
    "domain_df.info()"
   ]
  },
  {
   "cell_type": "code",
   "execution_count": 13,
   "metadata": {},
   "outputs": [
    {
     "data": {
      "text/plain": [
       "article_id             0\n",
       "source_id          40585\n",
       "source_name            0\n",
       "author              2163\n",
       "title                  0\n",
       "description           10\n",
       "url                    0\n",
       "url_to_image        3451\n",
       "published_at           0\n",
       "content                0\n",
       "category              21\n",
       "article                0\n",
       "title_sentiment        0\n",
       "dtype: int64"
      ]
     },
     "execution_count": 13,
     "metadata": {},
     "output_type": "execute_result"
    }
   ],
   "source": [
    "df.isna().sum()"
   ]
  },
  {
   "cell_type": "code",
   "execution_count": 14,
   "metadata": {},
   "outputs": [
    {
     "data": {
      "text/plain": [
       "SourceCommonName    0\n",
       "location            0\n",
       "Country             1\n",
       "dtype: int64"
      ]
     },
     "execution_count": 14,
     "metadata": {},
     "output_type": "execute_result"
    }
   ],
   "source": [
    "domain_df.isna().sum()"
   ]
  },
  {
   "cell_type": "code",
   "execution_count": 15,
   "metadata": {},
   "outputs": [
    {
     "data": {
      "text/plain": [
       "GlobalRank        0\n",
       "TldRank           0\n",
       "Domain            0\n",
       "TLD               0\n",
       "RefSubNets        0\n",
       "RefIPs            0\n",
       "IDN_Domain        0\n",
       "IDN_TLD           0\n",
       "PrevGlobalRank    0\n",
       "PrevTldRank       0\n",
       "PrevRefSubNets    0\n",
       "PrevRefIPs        0\n",
       "dtype: int64"
      ]
     },
     "execution_count": 15,
     "metadata": {},
     "output_type": "execute_result"
    }
   ],
   "source": [
    "\n",
    "traffic_df.isna().sum()"
   ]
  },
  {
   "cell_type": "code",
   "execution_count": 16,
   "metadata": {},
   "outputs": [],
   "source": [
    "df = df.drop_duplicates()\n",
    "df = df.dropna()\n",
    "\n",
    "traffic_df = traffic_df.drop_duplicates()\n",
    "traffic_df = traffic_df.dropna()\n",
    "\n",
    "domain_df = domain_df.drop_duplicates()\n",
    "domain_df = domain_df.dropna()"
   ]
  },
  {
   "cell_type": "code",
   "execution_count": 17,
   "metadata": {},
   "outputs": [
    {
     "data": {
      "text/plain": [
       "article_id         0\n",
       "source_id          0\n",
       "source_name        0\n",
       "author             0\n",
       "title              0\n",
       "description        0\n",
       "url                0\n",
       "url_to_image       0\n",
       "published_at       0\n",
       "content            0\n",
       "category           0\n",
       "article            0\n",
       "title_sentiment    0\n",
       "dtype: int64"
      ]
     },
     "execution_count": 17,
     "metadata": {},
     "output_type": "execute_result"
    }
   ],
   "source": [
    "df.isna().sum()"
   ]
  },
  {
   "cell_type": "code",
   "execution_count": 18,
   "metadata": {},
   "outputs": [
    {
     "data": {
      "text/plain": [
       "GlobalRank        0\n",
       "TldRank           0\n",
       "Domain            0\n",
       "TLD               0\n",
       "RefSubNets        0\n",
       "RefIPs            0\n",
       "IDN_Domain        0\n",
       "IDN_TLD           0\n",
       "PrevGlobalRank    0\n",
       "PrevTldRank       0\n",
       "PrevRefSubNets    0\n",
       "PrevRefIPs        0\n",
       "dtype: int64"
      ]
     },
     "execution_count": 18,
     "metadata": {},
     "output_type": "execute_result"
    }
   ],
   "source": [
    "traffic_df.isna().sum()"
   ]
  },
  {
   "cell_type": "code",
   "execution_count": 19,
   "metadata": {},
   "outputs": [
    {
     "data": {
      "text/plain": [
       "SourceCommonName    0\n",
       "location            0\n",
       "Country             0\n",
       "dtype: int64"
      ]
     },
     "execution_count": 19,
     "metadata": {},
     "output_type": "execute_result"
    }
   ],
   "source": [
    "domain_df.isna().sum()"
   ]
  },
  {
   "cell_type": "code",
   "execution_count": 20,
   "metadata": {},
   "outputs": [
    {
     "data": {
      "text/html": [
       "<div>\n",
       "<style scoped>\n",
       "    .dataframe tbody tr th:only-of-type {\n",
       "        vertical-align: middle;\n",
       "    }\n",
       "\n",
       "    .dataframe tbody tr th {\n",
       "        vertical-align: top;\n",
       "    }\n",
       "\n",
       "    .dataframe thead th {\n",
       "        text-align: right;\n",
       "    }\n",
       "</style>\n",
       "<table border=\"1\" class=\"dataframe\">\n",
       "  <thead>\n",
       "    <tr style=\"text-align: right;\">\n",
       "      <th></th>\n",
       "      <th>article_id</th>\n",
       "      <th>source_id</th>\n",
       "      <th>source_name</th>\n",
       "      <th>author</th>\n",
       "      <th>title</th>\n",
       "      <th>description</th>\n",
       "      <th>url</th>\n",
       "      <th>url_to_image</th>\n",
       "      <th>published_at</th>\n",
       "      <th>content</th>\n",
       "      <th>category</th>\n",
       "      <th>article</th>\n",
       "      <th>title_sentiment</th>\n",
       "    </tr>\n",
       "  </thead>\n",
       "  <tbody>\n",
       "    <tr>\n",
       "      <th>2</th>\n",
       "      <td>81694</td>\n",
       "      <td>time</td>\n",
       "      <td>Time</td>\n",
       "      <td>Christina Larson / AP</td>\n",
       "      <td>amphibians are the world’s most vulnerable spe...</td>\n",
       "      <td>The world’s frogs, salamanders, newts, and oth...</td>\n",
       "      <td>https://time.com/6320467/amphibians-most-vulne...</td>\n",
       "      <td>https://api.time.com/wp-content/uploads/2023/1...</td>\n",
       "      <td>2023-10-04 17:36:18.000000</td>\n",
       "      <td>The worlds frogs, salamanders, newts and other...</td>\n",
       "      <td>Madagascar</td>\n",
       "      <td>the world’s frogs, salamanders, newts and othe...</td>\n",
       "      <td>Negative</td>\n",
       "    </tr>\n",
       "    <tr>\n",
       "      <th>5</th>\n",
       "      <td>81707</td>\n",
       "      <td>al-jazeera-english</td>\n",
       "      <td>Al Jazeera English</td>\n",
       "      <td>Al Jazeera</td>\n",
       "      <td>unga calls for humanitarian truce in israel-ha...</td>\n",
       "      <td>The resolution passed with 120 votes in favour...</td>\n",
       "      <td>https://www.aljazeera.com/news/2023/10/27/unga...</td>\n",
       "      <td>https://www.aljazeera.com/wp-content/uploads/2...</td>\n",
       "      <td>2023-10-27 22:16:05.000000</td>\n",
       "      <td>The United Nations General Assembly has passed...</td>\n",
       "      <td>Madagascar</td>\n",
       "      <td>the resolution passed with 120 votes in favour...</td>\n",
       "      <td>Neutral</td>\n",
       "    </tr>\n",
       "    <tr>\n",
       "      <th>6</th>\n",
       "      <td>81717</td>\n",
       "      <td>bbc-news</td>\n",
       "      <td>BBC News</td>\n",
       "      <td>https://www.facebook.com/bbcnews</td>\n",
       "      <td>malawi heatwave warning issued as temperatures...</td>\n",
       "      <td>Temperatures could soar to 44C, the weather bu...</td>\n",
       "      <td>https://www.bbc.co.uk/news/world-africa-67086254</td>\n",
       "      <td>https://ichef.bbci.co.uk/news/1024/branded_new...</td>\n",
       "      <td>2023-10-12 10:40:48.000000</td>\n",
       "      <td>Malawians have been warned of an extreme heatw...</td>\n",
       "      <td>Madagascar</td>\n",
       "      <td>malawians have been warned of an extreme heatw...</td>\n",
       "      <td>Neutral</td>\n",
       "    </tr>\n",
       "    <tr>\n",
       "      <th>11</th>\n",
       "      <td>81739</td>\n",
       "      <td>rt</td>\n",
       "      <td>RT</td>\n",
       "      <td>RT</td>\n",
       "      <td>russian marine scientists to conduct african r...</td>\n",
       "      <td>Russian scientists from VNIRO will conduct res...</td>\n",
       "      <td>https://www.rt.com/africa/585847-russian-scien...</td>\n",
       "      <td>https://mf.b37mrtl.ru/files/2023.10/article/65...</td>\n",
       "      <td>2023-10-26 11:04:42.000000</td>\n",
       "      <td>Scientists from the All-Russian Research Insti...</td>\n",
       "      <td>Madagascar</td>\n",
       "      <td>scientists from the all-russian research insti...</td>\n",
       "      <td>Neutral</td>\n",
       "    </tr>\n",
       "    <tr>\n",
       "      <th>16</th>\n",
       "      <td>81755</td>\n",
       "      <td>al-jazeera-english</td>\n",
       "      <td>Al Jazeera English</td>\n",
       "      <td>Al Jazeera</td>\n",
       "      <td>‘kids whose insides are destroyed’: the return...</td>\n",
       "      <td>Mauritius grapples with a drug epidemic of unp...</td>\n",
       "      <td>https://www.aljazeera.com/features/2023/10/4/k...</td>\n",
       "      <td>https://www.aljazeera.com/wp-content/uploads/2...</td>\n",
       "      <td>2023-10-04 14:43:28.000000</td>\n",
       "      <td>Port Louis, Mauritius Until early 2022, Gaetan...</td>\n",
       "      <td>Madagascar</td>\n",
       "      <td>the island nation is grappling with a drug epi...</td>\n",
       "      <td>Negative</td>\n",
       "    </tr>\n",
       "  </tbody>\n",
       "</table>\n",
       "</div>"
      ],
      "text/plain": [
       "    article_id           source_id         source_name  \\\n",
       "2        81694                time                Time   \n",
       "5        81707  al-jazeera-english  Al Jazeera English   \n",
       "6        81717            bbc-news            BBC News   \n",
       "11       81739                  rt                  RT   \n",
       "16       81755  al-jazeera-english  Al Jazeera English   \n",
       "\n",
       "                              author  \\\n",
       "2              Christina Larson / AP   \n",
       "5                         Al Jazeera   \n",
       "6   https://www.facebook.com/bbcnews   \n",
       "11                                RT   \n",
       "16                        Al Jazeera   \n",
       "\n",
       "                                                title  \\\n",
       "2   amphibians are the world’s most vulnerable spe...   \n",
       "5   unga calls for humanitarian truce in israel-ha...   \n",
       "6   malawi heatwave warning issued as temperatures...   \n",
       "11  russian marine scientists to conduct african r...   \n",
       "16  ‘kids whose insides are destroyed’: the return...   \n",
       "\n",
       "                                          description  \\\n",
       "2   The world’s frogs, salamanders, newts, and oth...   \n",
       "5   The resolution passed with 120 votes in favour...   \n",
       "6   Temperatures could soar to 44C, the weather bu...   \n",
       "11  Russian scientists from VNIRO will conduct res...   \n",
       "16  Mauritius grapples with a drug epidemic of unp...   \n",
       "\n",
       "                                                  url  \\\n",
       "2   https://time.com/6320467/amphibians-most-vulne...   \n",
       "5   https://www.aljazeera.com/news/2023/10/27/unga...   \n",
       "6    https://www.bbc.co.uk/news/world-africa-67086254   \n",
       "11  https://www.rt.com/africa/585847-russian-scien...   \n",
       "16  https://www.aljazeera.com/features/2023/10/4/k...   \n",
       "\n",
       "                                         url_to_image  \\\n",
       "2   https://api.time.com/wp-content/uploads/2023/1...   \n",
       "5   https://www.aljazeera.com/wp-content/uploads/2...   \n",
       "6   https://ichef.bbci.co.uk/news/1024/branded_new...   \n",
       "11  https://mf.b37mrtl.ru/files/2023.10/article/65...   \n",
       "16  https://www.aljazeera.com/wp-content/uploads/2...   \n",
       "\n",
       "                  published_at  \\\n",
       "2   2023-10-04 17:36:18.000000   \n",
       "5   2023-10-27 22:16:05.000000   \n",
       "6   2023-10-12 10:40:48.000000   \n",
       "11  2023-10-26 11:04:42.000000   \n",
       "16  2023-10-04 14:43:28.000000   \n",
       "\n",
       "                                              content    category  \\\n",
       "2   The worlds frogs, salamanders, newts and other...  Madagascar   \n",
       "5   The United Nations General Assembly has passed...  Madagascar   \n",
       "6   Malawians have been warned of an extreme heatw...  Madagascar   \n",
       "11  Scientists from the All-Russian Research Insti...  Madagascar   \n",
       "16  Port Louis, Mauritius Until early 2022, Gaetan...  Madagascar   \n",
       "\n",
       "                                              article title_sentiment  \n",
       "2   the world’s frogs, salamanders, newts and othe...        Negative  \n",
       "5   the resolution passed with 120 votes in favour...         Neutral  \n",
       "6   malawians have been warned of an extreme heatw...         Neutral  \n",
       "11  scientists from the all-russian research insti...         Neutral  \n",
       "16  the island nation is grappling with a drug epi...        Negative  "
      ]
     },
     "execution_count": 20,
     "metadata": {},
     "output_type": "execute_result"
    }
   ],
   "source": [
    "df.head()"
   ]
  },
  {
   "cell_type": "code",
   "execution_count": 21,
   "metadata": {},
   "outputs": [
    {
     "data": {
      "text/html": [
       "<div>\n",
       "<style scoped>\n",
       "    .dataframe tbody tr th:only-of-type {\n",
       "        vertical-align: middle;\n",
       "    }\n",
       "\n",
       "    .dataframe tbody tr th {\n",
       "        vertical-align: top;\n",
       "    }\n",
       "\n",
       "    .dataframe thead th {\n",
       "        text-align: right;\n",
       "    }\n",
       "</style>\n",
       "<table border=\"1\" class=\"dataframe\">\n",
       "  <thead>\n",
       "    <tr style=\"text-align: right;\">\n",
       "      <th></th>\n",
       "      <th>SourceCommonName</th>\n",
       "      <th>location</th>\n",
       "      <th>Country</th>\n",
       "    </tr>\n",
       "  </thead>\n",
       "  <tbody>\n",
       "    <tr>\n",
       "      <th>0</th>\n",
       "      <td>00221.info</td>\n",
       "      <td>SG</td>\n",
       "      <td>Senegal</td>\n",
       "    </tr>\n",
       "    <tr>\n",
       "      <th>1</th>\n",
       "      <td>01net.com</td>\n",
       "      <td>FR</td>\n",
       "      <td>France</td>\n",
       "    </tr>\n",
       "    <tr>\n",
       "      <th>2</th>\n",
       "      <td>01net.it</td>\n",
       "      <td>IT</td>\n",
       "      <td>Italy</td>\n",
       "    </tr>\n",
       "    <tr>\n",
       "      <th>3</th>\n",
       "      <td>0223.com.ar</td>\n",
       "      <td>AR</td>\n",
       "      <td>Argentina</td>\n",
       "    </tr>\n",
       "    <tr>\n",
       "      <th>4</th>\n",
       "      <td>022china.com</td>\n",
       "      <td>CH</td>\n",
       "      <td>China</td>\n",
       "    </tr>\n",
       "  </tbody>\n",
       "</table>\n",
       "</div>"
      ],
      "text/plain": [
       "  SourceCommonName location    Country\n",
       "0       00221.info       SG    Senegal\n",
       "1        01net.com       FR     France\n",
       "2         01net.it       IT      Italy\n",
       "3      0223.com.ar       AR  Argentina\n",
       "4     022china.com       CH      China"
      ]
     },
     "execution_count": 21,
     "metadata": {},
     "output_type": "execute_result"
    }
   ],
   "source": [
    "domain_df.head()"
   ]
  },
  {
   "cell_type": "code",
   "execution_count": 22,
   "metadata": {},
   "outputs": [
    {
     "data": {
      "text/html": [
       "<div>\n",
       "<style scoped>\n",
       "    .dataframe tbody tr th:only-of-type {\n",
       "        vertical-align: middle;\n",
       "    }\n",
       "\n",
       "    .dataframe tbody tr th {\n",
       "        vertical-align: top;\n",
       "    }\n",
       "\n",
       "    .dataframe thead th {\n",
       "        text-align: right;\n",
       "    }\n",
       "</style>\n",
       "<table border=\"1\" class=\"dataframe\">\n",
       "  <thead>\n",
       "    <tr style=\"text-align: right;\">\n",
       "      <th></th>\n",
       "      <th>GlobalRank</th>\n",
       "      <th>TldRank</th>\n",
       "      <th>Domain</th>\n",
       "      <th>TLD</th>\n",
       "      <th>RefSubNets</th>\n",
       "      <th>RefIPs</th>\n",
       "      <th>IDN_Domain</th>\n",
       "      <th>IDN_TLD</th>\n",
       "      <th>PrevGlobalRank</th>\n",
       "      <th>PrevTldRank</th>\n",
       "      <th>PrevRefSubNets</th>\n",
       "      <th>PrevRefIPs</th>\n",
       "    </tr>\n",
       "  </thead>\n",
       "  <tbody>\n",
       "    <tr>\n",
       "      <th>0</th>\n",
       "      <td>1</td>\n",
       "      <td>1</td>\n",
       "      <td>google.com</td>\n",
       "      <td>com</td>\n",
       "      <td>471274</td>\n",
       "      <td>2151358</td>\n",
       "      <td>google.com</td>\n",
       "      <td>com</td>\n",
       "      <td>1</td>\n",
       "      <td>1</td>\n",
       "      <td>471248</td>\n",
       "      <td>2147402</td>\n",
       "    </tr>\n",
       "    <tr>\n",
       "      <th>1</th>\n",
       "      <td>2</td>\n",
       "      <td>2</td>\n",
       "      <td>facebook.com</td>\n",
       "      <td>com</td>\n",
       "      <td>465424</td>\n",
       "      <td>2250631</td>\n",
       "      <td>facebook.com</td>\n",
       "      <td>com</td>\n",
       "      <td>2</td>\n",
       "      <td>2</td>\n",
       "      <td>465297</td>\n",
       "      <td>2247135</td>\n",
       "    </tr>\n",
       "    <tr>\n",
       "      <th>2</th>\n",
       "      <td>3</td>\n",
       "      <td>3</td>\n",
       "      <td>youtube.com</td>\n",
       "      <td>com</td>\n",
       "      <td>420579</td>\n",
       "      <td>1852995</td>\n",
       "      <td>youtube.com</td>\n",
       "      <td>com</td>\n",
       "      <td>3</td>\n",
       "      <td>3</td>\n",
       "      <td>420483</td>\n",
       "      <td>1848940</td>\n",
       "    </tr>\n",
       "    <tr>\n",
       "      <th>3</th>\n",
       "      <td>4</td>\n",
       "      <td>4</td>\n",
       "      <td>twitter.com</td>\n",
       "      <td>com</td>\n",
       "      <td>404985</td>\n",
       "      <td>1757127</td>\n",
       "      <td>twitter.com</td>\n",
       "      <td>com</td>\n",
       "      <td>4</td>\n",
       "      <td>4</td>\n",
       "      <td>404998</td>\n",
       "      <td>1753939</td>\n",
       "    </tr>\n",
       "    <tr>\n",
       "      <th>4</th>\n",
       "      <td>5</td>\n",
       "      <td>5</td>\n",
       "      <td>instagram.com</td>\n",
       "      <td>com</td>\n",
       "      <td>364746</td>\n",
       "      <td>1598085</td>\n",
       "      <td>instagram.com</td>\n",
       "      <td>com</td>\n",
       "      <td>5</td>\n",
       "      <td>5</td>\n",
       "      <td>364618</td>\n",
       "      <td>1594892</td>\n",
       "    </tr>\n",
       "  </tbody>\n",
       "</table>\n",
       "</div>"
      ],
      "text/plain": [
       "   GlobalRank  TldRank         Domain  TLD  RefSubNets   RefIPs  \\\n",
       "0           1        1     google.com  com      471274  2151358   \n",
       "1           2        2   facebook.com  com      465424  2250631   \n",
       "2           3        3    youtube.com  com      420579  1852995   \n",
       "3           4        4    twitter.com  com      404985  1757127   \n",
       "4           5        5  instagram.com  com      364746  1598085   \n",
       "\n",
       "      IDN_Domain IDN_TLD  PrevGlobalRank  PrevTldRank  PrevRefSubNets  \\\n",
       "0     google.com     com               1            1          471248   \n",
       "1   facebook.com     com               2            2          465297   \n",
       "2    youtube.com     com               3            3          420483   \n",
       "3    twitter.com     com               4            4          404998   \n",
       "4  instagram.com     com               5            5          364618   \n",
       "\n",
       "   PrevRefIPs  \n",
       "0     2147402  \n",
       "1     2247135  \n",
       "2     1848940  \n",
       "3     1753939  \n",
       "4     1594892  "
      ]
     },
     "execution_count": 22,
     "metadata": {},
     "output_type": "execute_result"
    }
   ],
   "source": [
    "traffic_df.head()"
   ]
  },
  {
   "cell_type": "code",
   "execution_count": 23,
   "metadata": {},
   "outputs": [
    {
     "data": {
      "text/plain": [
       "Neutral     10187\n",
       "Negative     4912\n",
       "Positive     1701\n",
       "Name: title_sentiment, dtype: int64"
      ]
     },
     "execution_count": 23,
     "metadata": {},
     "output_type": "execute_result"
    }
   ],
   "source": [
    "df[\"title_sentiment\"].value_counts()"
   ]
  },
  {
   "cell_type": "code",
   "execution_count": 24,
   "metadata": {},
   "outputs": [
    {
     "name": "stdout",
     "output_type": "stream",
     "text": [
      "<class 'pandas.core.frame.DataFrame'>\n",
      "Int64Index: 16800 entries, 2 to 58349\n",
      "Data columns (total 13 columns):\n",
      " #   Column           Non-Null Count  Dtype \n",
      "---  ------           --------------  ----- \n",
      " 0   article_id       16800 non-null  int64 \n",
      " 1   source_id        16800 non-null  object\n",
      " 2   source_name      16800 non-null  object\n",
      " 3   author           16800 non-null  object\n",
      " 4   title            16800 non-null  object\n",
      " 5   description      16800 non-null  object\n",
      " 6   url              16800 non-null  object\n",
      " 7   url_to_image     16800 non-null  object\n",
      " 8   published_at     16800 non-null  object\n",
      " 9   content          16800 non-null  object\n",
      " 10  category         16800 non-null  object\n",
      " 11  article          16800 non-null  object\n",
      " 12  title_sentiment  16800 non-null  object\n",
      "dtypes: int64(1), object(12)\n",
      "memory usage: 1.8+ MB\n"
     ]
    }
   ],
   "source": [
    "df.info()\n",
    "# traffic_df.info()"
   ]
  },
  {
   "cell_type": "code",
   "execution_count": 25,
   "metadata": {},
   "outputs": [],
   "source": [
    "# Count the number of articles per source_name\n",
    "article_counts = df['source_name'].value_counts()\n",
    "\n",
    "# Get the top 10 websites\n",
    "top_10_websites = article_counts.head(10)\n",
    "\n",
    "# Get the bottom 10 websites\n",
    "bottom_10_websites = article_counts.tail(10)"
   ]
  },
  {
   "cell_type": "code",
   "execution_count": 26,
   "metadata": {},
   "outputs": [
    {
     "name": "stdout",
     "output_type": "stream",
     "text": [
      "Top 10 websites with the largest count of news articles:\n",
      "The Times of India    6987\n",
      "Business Insider      1968\n",
      "ABC News              1946\n",
      "BBC News              1939\n",
      "Al Jazeera English    1587\n",
      "RT                    1086\n",
      "Time                   578\n",
      "Wired                  252\n",
      "CNN                    252\n",
      "The Verge              205\n",
      "Name: source_name, dtype: int64\n",
      "\n",
      "Bottom 10 websites with the smallest count of news articles:\n",
      "The Times of India    6987\n",
      "Business Insider      1968\n",
      "ABC News              1946\n",
      "BBC News              1939\n",
      "Al Jazeera English    1587\n",
      "RT                    1086\n",
      "Time                   578\n",
      "Wired                  252\n",
      "CNN                    252\n",
      "The Verge              205\n",
      "Name: source_name, dtype: int64\n"
     ]
    }
   ],
   "source": [
    "print(\"Top 10 websites with the largest count of news articles:\")\n",
    "print(top_10_websites)\n",
    "print(\"\\nBottom 10 websites with the smallest count of news articles:\")\n",
    "print(bottom_10_websites)"
   ]
  },
  {
   "cell_type": "code",
   "execution_count": 27,
   "metadata": {},
   "outputs": [],
   "source": [
    "# url_list = df['url']\n",
    "# utils.break_combined_urls(url_list)"
   ]
  },
  {
   "cell_type": "code",
   "execution_count": 28,
   "metadata": {},
   "outputs": [
    {
     "name": "stdout",
     "output_type": "stream",
     "text": [
      "Top 10 websites with the highest numbers of visitor traffic:\n",
      "\n",
      "0              google.com\n",
      "1            facebook.com\n",
      "2             youtube.com\n",
      "3             twitter.com\n",
      "4           instagram.com\n",
      "5            linkedin.com\n",
      "6               apple.com\n",
      "7           microsoft.com\n",
      "8    googletagmanager.com\n",
      "9           wikipedia.org\n",
      "Name: Domain, dtype: object\n",
      "\n",
      "\n",
      "Bottom 10 websites visitor traffic: \n",
      "\n",
      "999990              eiretrip.com\n",
      "999991      exploring-africa.com\n",
      "999992                  hmag.com\n",
      "999993            irishcycle.com\n",
      "999994           keith-baker.com\n",
      "999995                kireie.com\n",
      "999996               mt-lock.com\n",
      "999997             pinkwater.com\n",
      "999998            soderhomes.com\n",
      "999999    toyotamusicfactory.com\n",
      "Name: Domain, dtype: object\n"
     ]
    }
   ],
   "source": [
    "sorted_df = traffic_df.sort_values('GlobalRank')\n",
    "\n",
    "# Display the top 10 websites\n",
    "top_10_websites = sorted_df['Domain'].head(10)\n",
    "\n",
    "bottom_10_websites = sorted_df['Domain'].tail(10)\n",
    "\n",
    "print(\"Top 10 websites with the highest numbers of visitor traffic:\\n\")\n",
    "print(top_10_websites)\n",
    "\n",
    "print(\"\\n\\nBottom 10 websites visitor traffic: \\n\")\n",
    "print(bottom_10_websites)"
   ]
  },
  {
   "cell_type": "code",
   "execution_count": 29,
   "metadata": {},
   "outputs": [
    {
     "name": "stdout",
     "output_type": "stream",
     "text": [
      "Top 10 countries with the highest number of news media organisations:\n",
      "\n",
      "United States     14111\n",
      "United Kingdom     1946\n",
      "Italy              1804\n",
      "France             1039\n",
      "Russia             1020\n",
      "Canada              886\n",
      "Germany             884\n",
      "China               779\n",
      "Turkey              725\n",
      "India               686\n",
      "Name: Country, dtype: int64\n",
      "\n",
      "\n",
      "Bottom 10 countries with the lowest number of news media organisations:\n",
      "\n",
      "Greenland         1\n",
      "Guernsey          1\n",
      "Isle of Man       1\n",
      "Cook Islands      1\n",
      "Guinea-Bissau     1\n",
      "Micronesia        1\n",
      "Aruba             1\n",
      "American Samoa    1\n",
      "Guadeloupe        1\n",
      "Saint Helena      1\n",
      "Name: Country, dtype: int64\n"
     ]
    }
   ],
   "source": [
    "# Countries with the highest number of news media organisations (represented by domains in the data)\n",
    "top10 = domain_df['Country'].value_counts().head(10)\n",
    "\n",
    "bottom10 = domain_df['Country'].value_counts().tail(10)\n",
    "\n",
    "print(\"Top 10 countries with the highest number of news media organisations:\\n\")\n",
    "print(top10)\n",
    "print(\"\\n\\nBottom 10 countries with the lowest number of news media organisations:\\n\")\n",
    "print(bottom10)\n"
   ]
  },
  {
   "cell_type": "code",
   "execution_count": 30,
   "metadata": {},
   "outputs": [
    {
     "name": "stdout",
     "output_type": "stream",
     "text": [
      "Top 10\n",
      "\n",
      "India          867\n",
      "Ukraine        344\n",
      "Australia      293\n",
      "Israel         224\n",
      "Egypt          166\n",
      "Mexico         138\n",
      "China          136\n",
      "Pakistan       136\n",
      "New Zealand    131\n",
      "Afghanistan    116\n",
      "Name: category, dtype: int64\n",
      "\n",
      "Bottom 10\n",
      "\n",
      "Montserrat       2\n",
      "Burkina Faso     2\n",
      "Guernsey         2\n",
      "Seychelles       2\n",
      "Costa Rica       2\n",
      "Martinique       1\n",
      "Eritrea          1\n",
      "Liechtenstein    1\n",
      "Belize           1\n",
      "Tajikistan       1\n",
      "Name: category, dtype: int64\n"
     ]
    }
   ],
   "source": [
    "category = df['category'].value_counts()\n",
    "countries = domain_df['Country'].unique()\n",
    "# Countries that have many articles written about them\n",
    "country_categories = category[category.index.isin(countries)]\n",
    "print(\"Top 10\\n\")\n",
    "print(country_categories.head(10))\n",
    "print(\"\\nBottom 10\\n\")\n",
    "print(country_categories.tail(10))"
   ]
  },
  {
   "cell_type": "code",
   "execution_count": 51,
   "metadata": {},
   "outputs": [
    {
     "data": {
      "text/plain": [
       "The Times of India    194\n",
       "BBC News              136\n",
       "RT                    129\n",
       "Al Jazeera English    116\n",
       "ABC News              105\n",
       "CNN                    29\n",
       "Business Insider       21\n",
       "Time                   20\n",
       "Wired                   2\n",
       "The Verge               1\n",
       "Name: source_name, dtype: int64"
      ]
     },
     "execution_count": 51,
     "metadata": {},
     "output_type": "execute_result"
    }
   ],
   "source": [
    "# Websites that reported (the news content) about Africa\n",
    "region = countries_region.get_region()\n",
    "\n",
    "df['Region'] = df['category'].map(region)\n",
    "\n",
    "df[df['Region'] == 'Africa']['source_name'].value_counts()\n"
   ]
  },
  {
   "cell_type": "code",
   "execution_count": 52,
   "metadata": {},
   "outputs": [
    {
     "data": {
      "text/plain": [
       "RT                    246\n",
       "The Times of India    231\n",
       "ABC News              198\n",
       "Business Insider      189\n",
       "Al Jazeera English    178\n",
       "BBC News              113\n",
       "Time                   30\n",
       "CNN                    23\n",
       "Wired                   9\n",
       "The Verge               4\n",
       "Name: source_name, dtype: int64"
      ]
     },
     "execution_count": 52,
     "metadata": {},
     "output_type": "execute_result"
    }
   ],
   "source": [
    "# Websites that reported (the news content) about Europe\n",
    "\n",
    "df[df['Region'] == 'Europe']['source_name'].value_counts()"
   ]
  },
  {
   "cell_type": "code",
   "execution_count": 53,
   "metadata": {},
   "outputs": [
    {
     "data": {
      "text/plain": [
       "The Times of India    1379\n",
       "Al Jazeera English     372\n",
       "ABC News               241\n",
       "RT                     201\n",
       "Business Insider       164\n",
       "BBC News               143\n",
       "Time                    83\n",
       "CNN                     29\n",
       "Wired                    7\n",
       "The Verge                3\n",
       "Name: source_name, dtype: int64"
      ]
     },
     "execution_count": 53,
     "metadata": {},
     "output_type": "execute_result"
    }
   ],
   "source": [
    "# Websites that reported (the news content) about Middle East and Asia\n",
    "\n",
    "df[df['Region'] == 'Asia']['source_name'].value_counts()"
   ]
  },
  {
   "cell_type": "code",
   "execution_count": 67,
   "metadata": {},
   "outputs": [
    {
     "data": {
      "text/plain": [
       "The Times of India    63\n",
       "RT                    20\n",
       "Al Jazeera English    17\n",
       "Business Insider      15\n",
       "Time                   9\n",
       "ABC News               6\n",
       "BBC News               4\n",
       "CNN                    2\n",
       "Name: source_name, dtype: int64"
      ]
     },
     "execution_count": 67,
     "metadata": {},
     "output_type": "execute_result"
    }
   ],
   "source": [
    "# Websites that reported (the news content) about China\n",
    "\n",
    "df[df['Region'] == 'China']['source_name'].value_counts()"
   ]
  },
  {
   "cell_type": "code",
   "execution_count": 74,
   "metadata": {},
   "outputs": [
    {
     "data": {
      "text/plain": [
       "Business Insider      50\n",
       "ABC News              25\n",
       "The Times of India    15\n",
       "Time                  12\n",
       "BBC News               9\n",
       "Al Jazeera English     3\n",
       "The Verge              2\n",
       "RT                     2\n",
       "CNN                    1\n",
       "Name: source_name, dtype: int64"
      ]
     },
     "execution_count": 74,
     "metadata": {},
     "output_type": "execute_result"
    }
   ],
   "source": [
    "# Websites that reported (the news content) about US\n",
    "\n",
    "df[df['category'] == 'America']['source_name'].value_counts()"
   ]
  },
  {
   "cell_type": "code",
   "execution_count": 35,
   "metadata": {},
   "outputs": [
    {
     "data": {
      "text/plain": [
       "The Times of India    1055\n",
       "Business Insider       222\n",
       "ABC News               133\n",
       "BBC News                64\n",
       "Wired                   63\n",
       "The Verge               57\n",
       "Time                    32\n",
       "Al Jazeera English      30\n",
       "RT                      24\n",
       "CNN                     21\n",
       "Name: source_name, dtype: int64"
      ]
     },
     "execution_count": 35,
     "metadata": {},
     "output_type": "execute_result"
    }
   ],
   "source": [
    "#Websites with the highest count of positive sentiment news articles\n",
    "df[df['title_sentiment'] == 'Positive']['source_name'].value_counts().head(10)"
   ]
  },
  {
   "cell_type": "code",
   "execution_count": 36,
   "metadata": {},
   "outputs": [
    {
     "data": {
      "text/plain": [
       "The Times of India    1130\n",
       "Business Insider       869\n",
       "BBC News               791\n",
       "ABC News               693\n",
       "Al Jazeera English     665\n",
       "RT                     390\n",
       "Time                   180\n",
       "CNN                     98\n",
       "Wired                   62\n",
       "The Verge               34\n",
       "Name: source_name, dtype: int64"
      ]
     },
     "execution_count": 36,
     "metadata": {},
     "output_type": "execute_result"
    }
   ],
   "source": [
    "#Websites with the highest count of negative sentiment news articles\n",
    "df[df['title_sentiment'] == 'Negative']['source_name'].value_counts().head(10)\n"
   ]
  },
  {
   "cell_type": "code",
   "execution_count": 37,
   "metadata": {},
   "outputs": [
    {
     "data": {
      "text/plain": [
       "The Times of India    4802\n",
       "ABC News              1120\n",
       "BBC News              1084\n",
       "Al Jazeera English     892\n",
       "Business Insider       877\n",
       "RT                     672\n",
       "Time                   366\n",
       "CNN                    133\n",
       "Wired                  127\n",
       "The Verge              114\n",
       "Name: source_name, dtype: int64"
      ]
     },
     "execution_count": 37,
     "metadata": {},
     "output_type": "execute_result"
    }
   ],
   "source": [
    "#Websites with the highest count of neutral sentiment news articles\n",
    "df[df['title_sentiment'] == 'Neutral']['source_name'].value_counts().head(10)"
   ]
  }
 ],
 "metadata": {
  "kernelspec": {
   "display_name": "Python 3",
   "language": "python",
   "name": "python3"
  },
  "language_info": {
   "codemirror_mode": {
    "name": "ipython",
    "version": 3
   },
   "file_extension": ".py",
   "mimetype": "text/x-python",
   "name": "python",
   "nbconvert_exporter": "python",
   "pygments_lexer": "ipython3",
   "version": "3.12.0"
  }
 },
 "nbformat": 4,
 "nbformat_minor": 4
}
