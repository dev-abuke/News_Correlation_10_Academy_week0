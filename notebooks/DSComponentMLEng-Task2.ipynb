{
 "cells": [
  {
   "cell_type": "code",
   "execution_count": 1,
   "metadata": {},
   "outputs": [],
   "source": [
    "%reload_ext autoreload\n",
    "%autoreload 2"
   ]
  },
  {
   "cell_type": "code",
   "execution_count": 18,
   "metadata": {},
   "outputs": [],
   "source": [
    "import os, sys\n",
    "import re\n",
    "import json\n",
    "import glob\n",
    "import datetime\n",
    "from collections import Counter\n",
    "\n",
    "import pandas as pd\n",
    "from matplotlib import pyplot as plt\n",
    "import seaborn as sns\n",
    "\n",
    "from nltk.corpus import stopwords\n",
    "from wordcloud import WordCloud\n"
   ]
  },
  {
   "cell_type": "code",
   "execution_count": 3,
   "metadata": {},
   "outputs": [],
   "source": [
    "os.chdir('..')"
   ]
  },
  {
   "cell_type": "code",
   "execution_count": 4,
   "metadata": {},
   "outputs": [],
   "source": [
    "from src.loader import NewsDataLoader"
   ]
  },
  {
   "cell_type": "code",
   "execution_count": 5,
   "metadata": {},
   "outputs": [
    {
     "name": "stdout",
     "output_type": "stream",
     "text": [
      "Output File: news_output.csv\n",
      "Path: data\n",
      "News Data: rating.csv\n",
      "Traffic Data: trafiic.csv\n",
      "Domain Location Data: domains_location.csv\n"
     ]
    }
   ],
   "source": [
    "from src.config import cfg"
   ]
  },
  {
   "cell_type": "code",
   "execution_count": 6,
   "metadata": {},
   "outputs": [],
   "source": [
    "import src.utils as utils"
   ]
  },
  {
   "cell_type": "code",
   "execution_count": 26,
   "metadata": {},
   "outputs": [],
   "source": [
    "news_data_loader = NewsDataLoader(cfg.path)"
   ]
  },
  {
   "cell_type": "code",
   "execution_count": 8,
   "metadata": {},
   "outputs": [],
   "source": [
    "original_news_df = news_data_loader.get_news_data()"
   ]
  },
  {
   "cell_type": "code",
   "execution_count": 10,
   "metadata": {},
   "outputs": [
    {
     "data": {
      "text/plain": [
       "Index(['article_id', 'source_id', 'source_name', 'author', 'title',\n",
       "       'description', 'url', 'url_to_image', 'published_at', 'content',\n",
       "       'category', 'article', 'title_sentiment'],\n",
       "      dtype='object')"
      ]
     },
     "execution_count": 10,
     "metadata": {},
     "output_type": "execute_result"
    }
   ],
   "source": [
    "# check columns\n",
    "original_news_df.columns"
   ]
  },
  {
   "cell_type": "code",
   "execution_count": 12,
   "metadata": {},
   "outputs": [
    {
     "data": {
      "text/plain": [
       "article_id             0\n",
       "source_id          40585\n",
       "source_name            0\n",
       "author              2163\n",
       "title                  0\n",
       "description           10\n",
       "url                    0\n",
       "url_to_image        3451\n",
       "published_at           0\n",
       "content                0\n",
       "category              21\n",
       "article                0\n",
       "title_sentiment        0\n",
       "dtype: int64"
      ]
     },
     "execution_count": 12,
     "metadata": {},
     "output_type": "execute_result"
    }
   ],
   "source": [
    "original_news_df.isna().sum()"
   ]
  },
  {
   "cell_type": "code",
   "execution_count": 41,
   "metadata": {},
   "outputs": [
    {
     "name": "stdout",
     "output_type": "stream",
     "text": [
      "marine le pen found guilty of defamation after accusing french ngo of smuggling migrants in mayotte\n"
     ]
    }
   ],
   "source": [
    "test_content = original_news_df.head(10)['content'][9]\n",
    "test_title = original_news_df.head(10)['title'][9]\n",
    "print(test_title)"
   ]
  },
  {
   "cell_type": "code",
   "execution_count": 43,
   "metadata": {},
   "outputs": [
    {
     "name": "stdout",
     "output_type": "stream",
     "text": [
      "('Cimade', 0.03874456518394107)\n",
      "('Pen', 0.10141226884569679)\n",
      "('French', 0.10141226884569679)\n",
      "('NGO', 0.10141226884569679)\n",
      "('Marine', 0.13696809108329627)\n",
      "('migrants', 0.13696809108329627)\n",
      "('smugglers', 0.13696809108329627)\n",
      "('convicted', 0.2200560909321288)\n",
      "('defamation', 0.2200560909321288)\n",
      "('helping', 0.2200560909321288)\n",
      "Title Keywords: \n",
      "\n",
      "('marine', 0.09568045026443411)\n",
      "('pen', 0.15831692877998726)\n",
      "('found', 0.15831692877998726)\n",
      "('guilty', 0.15831692877998726)\n",
      "('defamation', 0.15831692877998726)\n",
      "('accusing', 0.15831692877998726)\n",
      "('french', 0.15831692877998726)\n",
      "('ngo', 0.15831692877998726)\n",
      "('smuggling', 0.15831692877998726)\n",
      "('migrants', 0.15831692877998726)\n"
     ]
    }
   ],
   "source": [
    "\n",
    "# this is grat but we need vectorizers to get the keywords that sound grammatically correct\n",
    "kw_extractor = yake.KeywordExtractor(n=1, dedupLim=0.4, top=10)\n",
    "content_keywords = kw_extractor.extract_keywords(test_content)\n",
    "title_keywords = kw_extractor.extract_keywords(test_title)\n",
    "\n",
    "for kw in content_keywords:\n",
    "    print(kw)\n",
    "\n",
    "\n",
    "print('Title Keywords: \\n')\n",
    "for kw in title_keywords:\n",
    "    print(kw)"
   ]
  }
 ],
 "metadata": {
  "kernelspec": {
   "display_name": "env1",
   "language": "python",
   "name": "python3"
  },
  "language_info": {
   "codemirror_mode": {
    "name": "ipython",
    "version": 3
   },
   "file_extension": ".py",
   "mimetype": "text/x-python",
   "name": "python",
   "nbconvert_exporter": "python",
   "pygments_lexer": "ipython3",
   "version": "3.12.0"
  }
 },
 "nbformat": 4,
 "nbformat_minor": 2
}
