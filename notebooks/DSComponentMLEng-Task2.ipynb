{
 "cells": [
  {
   "cell_type": "code",
   "execution_count": 1,
   "metadata": {},
   "outputs": [],
   "source": [
    "%reload_ext autoreload\n",
    "%autoreload 2"
   ]
  },
  {
   "cell_type": "code",
   "execution_count": 18,
   "metadata": {},
   "outputs": [],
   "source": [
    "import os, sys\n",
    "import re\n",
    "import json\n",
    "import glob\n",
    "import datetime\n",
    "from collections import Counter\n",
    "\n",
    "import pandas as pd\n",
    "from matplotlib import pyplot as plt\n",
    "import seaborn as sns\n",
    "\n",
    "from nltk.corpus import stopwords\n",
    "from wordcloud import WordCloud\n",
    "import yake"
   ]
  },
  {
   "cell_type": "code",
   "execution_count": 3,
   "metadata": {},
   "outputs": [],
   "source": [
    "os.chdir('..')"
   ]
  },
  {
   "cell_type": "code",
   "execution_count": 4,
   "metadata": {},
   "outputs": [],
   "source": [
    "from src.loader import NewsDataLoader"
   ]
  },
  {
   "cell_type": "code",
   "execution_count": 5,
   "metadata": {},
   "outputs": [
    {
     "name": "stdout",
     "output_type": "stream",
     "text": [
      "Output File: news_output.csv\n",
      "Path: data\n",
      "News Data: rating.csv\n",
      "Traffic Data: trafiic.csv\n",
      "Domain Location Data: domains_location.csv\n"
     ]
    }
   ],
   "source": [
    "from src.config import cfg"
   ]
  },
  {
   "cell_type": "code",
   "execution_count": 6,
   "metadata": {},
   "outputs": [],
   "source": [
    "import src.utils as utils"
   ]
  },
  {
   "cell_type": "code",
   "execution_count": 21,
   "metadata": {},
   "outputs": [],
   "source": [
    "news_data_loader = NewsDataLoader(cfg.path)\n",
    "kw_extractor = yake.KeywordExtractor()"
   ]
  },
  {
   "cell_type": "code",
   "execution_count": 8,
   "metadata": {},
   "outputs": [],
   "source": [
    "original_news_df = news_data_loader.get_news_data()"
   ]
  },
  {
   "cell_type": "code",
   "execution_count": 10,
   "metadata": {},
   "outputs": [
    {
     "data": {
      "text/plain": [
       "Index(['article_id', 'source_id', 'source_name', 'author', 'title',\n",
       "       'description', 'url', 'url_to_image', 'published_at', 'content',\n",
       "       'category', 'article', 'title_sentiment'],\n",
       "      dtype='object')"
      ]
     },
     "execution_count": 10,
     "metadata": {},
     "output_type": "execute_result"
    }
   ],
   "source": [
    "# check columns\n",
    "original_news_df.columns"
   ]
  },
  {
   "cell_type": "code",
   "execution_count": 12,
   "metadata": {},
   "outputs": [
    {
     "data": {
      "text/plain": [
       "article_id             0\n",
       "source_id          40585\n",
       "source_name            0\n",
       "author              2163\n",
       "title                  0\n",
       "description           10\n",
       "url                    0\n",
       "url_to_image        3451\n",
       "published_at           0\n",
       "content                0\n",
       "category              21\n",
       "article                0\n",
       "title_sentiment        0\n",
       "dtype: int64"
      ]
     },
     "execution_count": 12,
     "metadata": {},
     "output_type": "execute_result"
    }
   ],
   "source": [
    "original_news_df.isna().sum()"
   ]
  },
  {
   "cell_type": "code",
   "execution_count": 19,
   "metadata": {},
   "outputs": [],
   "source": [
    "test_content = original_news_df.head(2)['content'][1]"
   ]
  },
  {
   "cell_type": "code",
   "execution_count": 25,
   "metadata": {},
   "outputs": [
    {
     "name": "stdout",
     "output_type": "stream",
     "text": [
      "('Hicham Boudaoui goal', 0.002511861746285796)\n",
      "('second-half Hicham Boudaoui', 0.0025118617462857964)\n",
      "('lowly Clermont Foot', 0.0025118617462857964)\n",
      "('Foot on Friday', 0.0072924691533075596)\n",
      "('Hicham Boudaoui', 0.010648804518731927)\n",
      "('Clermont Foot', 0.010648804518731927)\n",
      "('second-half Hicham', 0.023744920762562488)\n",
      "('Boudaoui goal', 0.023744920762562488)\n",
      "('lowly Clermont', 0.023744920762562488)\n",
      "('moved into provisional', 0.053804342030416036)\n",
      "('provisional first place', 0.053804342030416036)\n",
      "('goal that secured', 0.053804342030416036)\n",
      "('win at lowly', 0.053804342030416036)\n",
      "('Ligue', 0.07052916133628977)\n",
      "('Friday', 0.07052916133628977)\n",
      "('Nice moved', 0.07742423445237898)\n",
      "('Hicham', 0.10264795322139568)\n",
      "('Boudaoui', 0.10264795322139568)\n",
      "('Clermont', 0.10264795322139568)\n",
      "('Foot', 0.10264795322139568)\n"
     ]
    }
   ],
   "source": [
    "\n",
    "keywords = kw_extractor.extract_keywords(test_content)\n",
    "\n",
    "for kw in keywords:\n",
    "    print(kw)"
   ]
  }
 ],
 "metadata": {
  "kernelspec": {
   "display_name": "env1",
   "language": "python",
   "name": "python3"
  },
  "language_info": {
   "codemirror_mode": {
    "name": "ipython",
    "version": 3
   },
   "file_extension": ".py",
   "mimetype": "text/x-python",
   "name": "python",
   "nbconvert_exporter": "python",
   "pygments_lexer": "ipython3",
   "version": "3.12.0"
  }
 },
 "nbformat": 4,
 "nbformat_minor": 2
}
