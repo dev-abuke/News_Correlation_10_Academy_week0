{
 "cells": [
  {
   "cell_type": "code",
   "execution_count": null,
   "id": "69c688ee-241e-4e90-8f10-11c0a332af85",
   "metadata": {},
   "outputs": [],
   "source": [
    "import os\n",
    "import sys\n",
    "import re\n",
    "import json\n",
    "import glob\n",
    "import datetime\n",
    "from collections import Counter\n",
    "\n",
    "import pandas as pd\n",
    "from matplotlib import pyplot as plt\n",
    "import seaborn as sns\n",
    "\n",
    "from nltk.corpus import stopwords\n",
    "from wordcloud import WordCloud\n",
    "from datetime import datetime, timedelta\n",
    "\n",
    "import re\n",
    "import nltk\n",
    "from nltk.tokenize import word_tokenize\n",
    "from nltk.corpus import stopwords\n",
    "from nltk.stem import PorterStemmer\n",
    "import mlflow\n",
    "import mlflow.sklearn\n",
    "import joblib"
   ]
  },
  {
   "cell_type": "code",
   "execution_count": null,
   "id": "33bb6f1b-6d66-466f-a3a0-58be0a42adef",
   "metadata": {},
   "outputs": [],
   "source": [
    "os.chdir('..') "
   ]
  },
  {
   "cell_type": "code",
   "execution_count": null,
   "id": "530c3784-337d-4c3c-be49-f3f4de314aac",
   "metadata": {},
   "outputs": [],
   "source": [
    "from src.loader import NewsDataLoader\n",
    "from src.config import cfg\n",
    "import src.utils as utils"
   ]
  },
  {
   "cell_type": "code",
   "execution_count": null,
   "id": "a5361844-4cbb-47d4-b670-a403cb7565ce",
   "metadata": {},
   "outputs": [],
   "source": [
    "import sklearn\n",
    "from sklearn.model_selection import train_test_split\n",
    "from sklearn.feature_extraction.text import CountVectorizer\n",
    "from sklearn.naive_bayes import MultinomialNB\n",
    "from sklearn.metrics import accuracy_score, classification_report\n",
    "from sklearn.decomposition import LatentDirichletAllocation\n",
    "from nltk.sentiment.vader import SentimentIntensityAnalyzer"
   ]
  },
  {
   "cell_type": "code",
   "execution_count": null,
   "id": "893caf00-25b6-4893-a19b-bed688966979",
   "metadata": {},
   "outputs": [],
   "source": [
    "data_loader = NewsDataLoader(cfg.path)"
   ]
  },
  {
   "cell_type": "code",
   "execution_count": null,
   "id": "032f301c-f943-431e-aaa4-2f65158c682e",
   "metadata": {},
   "outputs": [],
   "source": [
    "# Convert the list of messages into a DataFrame\n",
    "news_data_df = data_loader.get_news_data()"
   ]
  },
  {
   "cell_type": "code",
   "execution_count": null,
   "id": "0aa4e184-b80e-49b2-9a4f-83fe99557bc4",
   "metadata": {},
   "outputs": [],
   "source": [
    "news_data_df.head(2)"
   ]
  },
  {
   "cell_type": "code",
   "execution_count": null,
   "id": "2f26e178-c386-4137-983c-ff6c5699b7dd",
   "metadata": {},
   "outputs": [],
   "source": [
    "# Download 'punkt' resource\n",
    "nltk.download('punkt')\n",
    "nltk.download('stopwords')"
   ]
  },
  {
   "cell_type": "code",
   "execution_count": null,
   "id": "dfb46a65-e065-4032-8ca9-1ceef919003d",
   "metadata": {},
   "outputs": [],
   "source": [
    "# Apply the cleaning function to the 'text' column\n",
    "news_data_df['clean_content'] = news_data_df['content'].apply(utils.clean_text)"
   ]
  },
  {
   "cell_type": "code",
   "execution_count": null,
   "id": "27d8c7c2-17bc-4afd-8fe9-360f2040bf52",
   "metadata": {},
   "outputs": [],
   "source": [
    "# Remove missing values\n",
    "news_data_df.dropna(subset=['description'], inplace=True)\n",
    "news_data_df.isna().sum()"
   ]
  },
  {
   "cell_type": "code",
   "execution_count": null,
   "id": "eee84fcc-fb4a-493b-b00e-ea18f2e9c822",
   "metadata": {
    "scrolled": true
   },
   "outputs": [],
   "source": [
    "print(news_data_df.columns)"
   ]
  },
  {
   "cell_type": "code",
   "execution_count": null,
   "id": "900fbd37-239e-4219-a23e-a7d0fb6aaa4b",
   "metadata": {},
   "outputs": [],
   "source": [
    "selected_columns = ['description', 'title']\n",
    "news_data_df_dt = news_data_df[selected_columns]"
   ]
  },
  {
   "cell_type": "code",
   "execution_count": null,
   "id": "11704812-72f8-4dd2-b5da-7e3416e8cf81",
   "metadata": {},
   "outputs": [],
   "source": [
    "# Train-test split\n",
    "X_train, X_test, y_train, y_test = train_test_split(news_data_df_dt['title'], news_data_df_dt['description'], test_size=0.2, random_state=42)\n",
    "print(X_train.shape, X_test.shape, y_train.shape, y_test.shape)"
   ]
  },
  {
   "cell_type": "code",
   "execution_count": null,
   "id": "4824bad2-b719-4ccb-b01f-e62c5ad47860",
   "metadata": {},
   "outputs": [],
   "source": [
    "# Vectorize the text data\n",
    "vectorizer = CountVectorizer()\n",
    "X_train_vec = vectorizer.fit_transform(X_train)\n",
    "X_test_vec = vectorizer.transform(X_test)"
   ]
  },
  {
   "cell_type": "code",
   "execution_count": null,
   "id": "a5ff0a5b-9210-44dd-a0f9-716819b204cf",
   "metadata": {},
   "outputs": [],
   "source": [
    "# Train a Naive Bayes classifier\n",
    "classifier = MultinomialNB()\n",
    "classifier.fit(X_train_vec, y_train)"
   ]
  },
  {
   "cell_type": "code",
   "execution_count": null,
   "id": "93f2325a-8a4d-4a8f-837e-53b08f20eace",
   "metadata": {},
   "outputs": [],
   "source": [
    "# Make predictions\n",
    "predictions = classifier.predict(X_test_vec)"
   ]
  },
  {
   "cell_type": "code",
   "execution_count": null,
   "id": "3b46c870-b46c-45eb-baff-db4dbd065960",
   "metadata": {},
   "outputs": [],
   "source": [
    "# Evaluate the model\n",
    "accuracy = accuracy_score(y_test, predictions)\n",
    "print(f\"Accuracy: {accuracy}\")\n",
    "print(classification_report(y_test, predictions))"
   ]
  },
  {
   "cell_type": "code",
   "execution_count": null,
   "id": "a5b0b6e3-0976-4cf8-8b48-fd869b685a3b",
   "metadata": {},
   "outputs": [],
   "source": [
    "# Using Latent Dirichlet Allocation (LDA) for Topic Modeling\n",
    "lda = LatentDirichletAllocation(n_components=10, random_state=42)\n",
    "message_topics = lda.fit_transform(X_train_vec)"
   ]
  },
  {
   "cell_type": "code",
   "execution_count": null,
   "id": "82a9a7d7-a815-40c7-99f6-85b6a686a284",
   "metadata": {},
   "outputs": [],
   "source": [
    "# Log the model with MLflow\n",
    "os.makedirs(\"mlflow_logs/artifacts\", exist_ok=True)\n",
    "with mlflow.start_run():\n",
    "    mlflow.log_param(\"model_type\", \"NaiveBayes\")\n",
    "    mlflow.sklearn.log_model(classifier, \"model\")\n",
    "\n",
    "    # Save vectorizer\n",
    "    vectorizer_path = \"mlflow_logs/artifacts/vectorizer.pkl\"\n",
    "    joblib.dump(vectorizer, vectorizer_path)\n",
    "    mlflow.log_artifact(vectorizer_path, \"artifacts\")\n",
    "\n",
    "    # Save LDA model\n",
    "    lda_path = \"mlflow_logs/artifacts/lda_model.pkl\"\n",
    "    joblib.dump(lda, lda_path)\n",
    "    mlflow.log_artifact(lda_path, \"artifacts\")\n",
    "\n",
    "    # Log additional information\n",
    "    mlflow.log_param(\"accuracy\", accuracy)"
   ]
  }
 ],
 "metadata": {
  "kernelspec": {
   "display_name": "Python 3 (ipykernel)",
   "language": "python",
   "name": "python3"
  },
  "language_info": {
   "codemirror_mode": {
    "name": "ipython",
    "version": 3
   },
   "file_extension": ".py",
   "mimetype": "text/x-python",
   "name": "python",
   "nbconvert_exporter": "python",
   "pygments_lexer": "ipython3",
   "version": "3.12.0"
  }
 },
 "nbformat": 4,
 "nbformat_minor": 5
}
